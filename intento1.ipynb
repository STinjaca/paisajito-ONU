{
 "cells": [
  {
   "cell_type": "code",
   "execution_count": 5,
   "metadata": {},
   "outputs": [
    {
     "name": "stdout",
     "output_type": "stream",
     "text": [
      "   cantidad_de_filas agnio     region_destino region_nacionalidad  \\\n",
      "0                  1  2024  América del Norte   América del Norte   \n",
      "1                  1  2024  América del Norte   América del Norte   \n",
      "2                  1  2024  América del Norte   América del Norte   \n",
      "3                  1  2024  América del Norte   América del Norte   \n",
      "4                  1  2024  América del Norte   América del Norte   \n",
      "\n",
      "  entrada_salida      sexo categoria_migratoria motivo_viaje  \\\n",
      "0       Entradas  Femenino              Turismo      Turismo   \n",
      "1       Entradas  Femenino              Turismo      Turismo   \n",
      "2       Entradas  Femenino              Turismo      Turismo   \n",
      "3       Entradas  Femenino              Turismo      Turismo   \n",
      "4       Entradas  Femenino              Turismo      Turismo   \n",
      "\n",
      "  departamento_hospedaje     ciudad_hospedaje colombiano_extranjero  \\\n",
      "0                Caquetá              Albania           Extranjeros   \n",
      "1     Norte de Santander               Abrego           Extranjeros   \n",
      "2     Norte de Santander               Cácota           Extranjeros   \n",
      "3                Quindío              Salento           Extranjeros   \n",
      "4              Risaralda  Santa Rosa de Cabal           Extranjeros   \n",
      "\n",
      "               puesto_migratorio tipo_transporte      centro_regional  \\\n",
      "0  Aeropuerto Eldorado de Bogotá           Aéreo  Aeropuerto Eldorado   \n",
      "1  Aeropuerto Eldorado de Bogotá           Aéreo  Aeropuerto Eldorado   \n",
      "2  Aeropuerto Eldorado de Bogotá           Aéreo  Aeropuerto Eldorado   \n",
      "3  Aeropuerto Eldorado de Bogotá           Aéreo  Aeropuerto Eldorado   \n",
      "4  Aeropuerto Eldorado de Bogotá           Aéreo  Aeropuerto Eldorado   \n",
      "\n",
      "  pais_nacionalidad   meses pais_destino_procedencia rango_edad departamento  \\\n",
      "0    Estados Unidos  Agosto           Estados Unidos      30-39       Bogotá   \n",
      "1    Estados Unidos  Agosto           Estados Unidos      30-39       Bogotá   \n",
      "2    Estados Unidos  Agosto           Estados Unidos      30-39       Bogotá   \n",
      "3    Estados Unidos  Agosto           Estados Unidos      30-39       Bogotá   \n",
      "4    Estados Unidos  Agosto           Estados Unidos      30-39       Bogotá   \n",
      "\n",
      "  tipo_viajero  \n",
      "0    Visitante  \n",
      "1    Visitante  \n",
      "2    Visitante  \n",
      "3    Visitante  \n",
      "4    Visitante  \n"
     ]
    }
   ],
   "source": [
    "import pandas as pd\n",
    "\n",
    "# Reemplaza 'ruta/al/archivo.parquet' con la ruta de tu archivo .parquet\n",
    "df = pd.read_parquet(\"C:/Users/LENOVO/Downloads/UN Datathon/2024.parquet\")\n",
    "\n",
    "# Muestra los primeros registros para verificar\n",
    "print(df.head())\n"
   ]
  },
  {
   "cell_type": "code",
   "execution_count": 4,
   "metadata": {},
   "outputs": [
    {
     "name": "stderr",
     "output_type": "stream",
     "text": [
      "C:\\Users\\marti\\AppData\\Local\\Temp\\ipykernel_27276\\3530045789.py:14: UserWarning: Column names longer than 10 characters will be truncated when saved to ESRI Shapefile.\n",
      "  gdf.to_file(\"Hotels.shp\", driver=\"ESRI Shapefile\")\n",
      "c:\\Users\\marti\\anaconda3\\Lib\\site-packages\\pyogrio\\raw.py:723: RuntimeWarning: Normalized/laundered field name: 'sustainability_level' to 'sustainabi'\n",
      "  ogr_write(\n",
      "c:\\Users\\marti\\anaconda3\\Lib\\site-packages\\pyogrio\\raw.py:723: RuntimeWarning: Normalized/laundered field name: 'hotel_groupings' to 'hotel_grou'\n",
      "  ogr_write(\n"
     ]
    }
   ],
   "source": [
    "import pandas as pd\n",
    "import geopandas as gpd\n",
    "from shapely.geometry import Point\n",
    "\n",
    "df = pd.read_parquet(\"Hotels.parquet\")\n",
    "df\n",
    "\n",
    "geometry = [Point(xy) for xy in zip(df['longitude'], df['latitude'])]\n",
    "\n",
    "# Crea un GeoDataFrame con el sistema de coordenadas adecuado (ejemplo: WGS84 - EPSG:4326)\n",
    "gdf = gpd.GeoDataFrame(df, geometry=geometry, crs=\"EPSG:4326\")\n",
    "\n",
    "# Guarda el GeoDataFrame como shapefile\n",
    "gdf.to_file(\"Hotels.shp\", driver=\"ESRI Shapefile\")\n"
   ]
  },
  {
   "cell_type": "code",
   "execution_count": 5,
   "metadata": {},
   "outputs": [
    {
     "name": "stderr",
     "output_type": "stream",
     "text": [
      "C:\\Users\\marti\\AppData\\Local\\Temp\\ipykernel_27276\\4185224464.py:20: UserWarning: Column names longer than 10 characters will be truncated when saved to ESRI Shapefile.\n",
      "  gdf.to_file(\"tarifas_zona.shp\", driver=\"ESRI Shapefile\")\n",
      "c:\\Users\\marti\\anaconda3\\Lib\\site-packages\\pyogrio\\raw.py:723: RuntimeWarning: Normalized/laundered field name: 'tar_periodo' to 'tar_period'\n",
      "  ogr_write(\n"
     ]
    }
   ],
   "source": [
    "import pandas as pd\n",
    "import geopandas as gpd\n",
    "from shapely.geometry import Point\n",
    "\n",
    "df = pd.read_csv(\"tarifa_promedio_mensual_zona.csv\")\n",
    "\n",
    "zonas_coordenadas = {\n",
    "    \"LAURELES\": {\"lat\": 6.2516, \"lon\": -75.6186},\n",
    "    \"CENTRO\": {\"lat\": 6.2462, \"lon\": -75.5747},\n",
    "    \"POBLADO\": {\"lat\": 6.2091, \"lon\": -75.5677}\n",
    "}\n",
    "\n",
    "df['latitude'] = df['tar_zona'].map(lambda zona: zonas_coordenadas[zona][\"lat\"])\n",
    "df['longitude'] = df['tar_zona'].map(lambda zona: zonas_coordenadas[zona][\"lon\"])\n",
    "\n",
    "geometry = [Point(xy) for xy in zip(df['longitude'], df['latitude'])]\n",
    "\n",
    "gdf = gpd.GeoDataFrame(df, geometry=geometry, crs=\"EPSG:4326\")\n",
    "\n",
    "gdf.to_file(\"tarifas_zona.shp\", driver=\"ESRI Shapefile\")\n"
   ]
  }
 ],
 "metadata": {
  "kernelspec": {
   "display_name": "base",
   "language": "python",
   "name": "python3"
  },
  "language_info": {
   "codemirror_mode": {
    "name": "ipython",
    "version": 3
   },
   "file_extension": ".py",
   "mimetype": "text/x-python",
   "name": "python",
   "nbconvert_exporter": "python",
   "pygments_lexer": "ipython3",
   "version": "3.11.7"
  }
 },
 "nbformat": 4,
 "nbformat_minor": 2
}
