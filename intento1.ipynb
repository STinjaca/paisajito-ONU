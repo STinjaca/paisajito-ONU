{
 "cells": [
  {
   "cell_type": "code",
   "execution_count": 5,
   "metadata": {},
   "outputs": [
    {
     "name": "stdout",
     "output_type": "stream",
     "text": [
      "   cantidad_de_filas agnio     region_destino region_nacionalidad  \\\n",
      "0                  1  2024  América del Norte   América del Norte   \n",
      "1                  1  2024  América del Norte   América del Norte   \n",
      "2                  1  2024  América del Norte   América del Norte   \n",
      "3                  1  2024  América del Norte   América del Norte   \n",
      "4                  1  2024  América del Norte   América del Norte   \n",
      "\n",
      "  entrada_salida      sexo categoria_migratoria motivo_viaje  \\\n",
      "0       Entradas  Femenino              Turismo      Turismo   \n",
      "1       Entradas  Femenino              Turismo      Turismo   \n",
      "2       Entradas  Femenino              Turismo      Turismo   \n",
      "3       Entradas  Femenino              Turismo      Turismo   \n",
      "4       Entradas  Femenino              Turismo      Turismo   \n",
      "\n",
      "  departamento_hospedaje     ciudad_hospedaje colombiano_extranjero  \\\n",
      "0                Caquetá              Albania           Extranjeros   \n",
      "1     Norte de Santander               Abrego           Extranjeros   \n",
      "2     Norte de Santander               Cácota           Extranjeros   \n",
      "3                Quindío              Salento           Extranjeros   \n",
      "4              Risaralda  Santa Rosa de Cabal           Extranjeros   \n",
      "\n",
      "               puesto_migratorio tipo_transporte      centro_regional  \\\n",
      "0  Aeropuerto Eldorado de Bogotá           Aéreo  Aeropuerto Eldorado   \n",
      "1  Aeropuerto Eldorado de Bogotá           Aéreo  Aeropuerto Eldorado   \n",
      "2  Aeropuerto Eldorado de Bogotá           Aéreo  Aeropuerto Eldorado   \n",
      "3  Aeropuerto Eldorado de Bogotá           Aéreo  Aeropuerto Eldorado   \n",
      "4  Aeropuerto Eldorado de Bogotá           Aéreo  Aeropuerto Eldorado   \n",
      "\n",
      "  pais_nacionalidad   meses pais_destino_procedencia rango_edad departamento  \\\n",
      "0    Estados Unidos  Agosto           Estados Unidos      30-39       Bogotá   \n",
      "1    Estados Unidos  Agosto           Estados Unidos      30-39       Bogotá   \n",
      "2    Estados Unidos  Agosto           Estados Unidos      30-39       Bogotá   \n",
      "3    Estados Unidos  Agosto           Estados Unidos      30-39       Bogotá   \n",
      "4    Estados Unidos  Agosto           Estados Unidos      30-39       Bogotá   \n",
      "\n",
      "  tipo_viajero  \n",
      "0    Visitante  \n",
      "1    Visitante  \n",
      "2    Visitante  \n",
      "3    Visitante  \n",
      "4    Visitante  \n"
     ]
    }
   ],
   "source": [
    "import pandas as pd\n",
    "\n",
    "# Reemplaza 'ruta/al/archivo.parquet' con la ruta de tu archivo .parquet\n",
    "df = pd.read_parquet(\"C:/Users/LENOVO/Downloads/UN Datathon/2024.parquet\")\n",
    "\n",
    "# Muestra los primeros registros para verificar\n",
    "print(df.head())\n"
   ]
  },
  {
   "cell_type": "code",
   "execution_count": null,
   "metadata": {},
   "outputs": [],
   "source": []
  }
 ],
 "metadata": {
  "kernelspec": {
   "display_name": "base",
   "language": "python",
   "name": "python3"
  },
  "language_info": {
   "codemirror_mode": {
    "name": "ipython",
    "version": 3
   },
   "file_extension": ".py",
   "mimetype": "text/x-python",
   "name": "python",
   "nbconvert_exporter": "python",
   "pygments_lexer": "ipython3",
   "version": "3.12.3"
  }
 },
 "nbformat": 4,
 "nbformat_minor": 2
}
